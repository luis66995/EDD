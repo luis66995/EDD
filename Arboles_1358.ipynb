{
  "nbformat": 4,
  "nbformat_minor": 0,
  "metadata": {
    "colab": {
      "name": "Arboles_1358.ipynb",
      "private_outputs": true,
      "provenance": [],
      "collapsed_sections": [],
      "authorship_tag": "ABX9TyOiM0P8Cu8mHddIzPaAStUk",
      "include_colab_link": true
    },
    "kernelspec": {
      "name": "python3",
      "display_name": "Python 3"
    },
    "language_info": {
      "name": "python"
    }
  },
  "cells": [
    {
      "cell_type": "markdown",
      "metadata": {
        "id": "view-in-github",
        "colab_type": "text"
      },
      "source": [
        "<a href=\"https://colab.research.google.com/github/luis66995/EDD/blob/master/Arboles_1358.ipynb\" target=\"_parent\"><img src=\"https://colab.research.google.com/assets/colab-badge.svg\" alt=\"Open In Colab\"/></a>"
      ]
    },
    {
      "cell_type": "code",
      "metadata": {
        "id": "yJaYucr15PeV"
      },
      "source": [
        "class NivelUnoNode:\n",
        "  def __init__(self, value, lefth=None , rigth=None):\n",
        "      self.data= value\n",
        "      self.left=left\n",
        "      self.rigth=rigth\n",
        "        "
      ],
      "execution_count": null,
      "outputs": []
    },
    {
      "cell_type": "code",
      "metadata": {
        "id": "6l6t3cDSt5Wk"
      },
      "source": [
        "class BinaryNode:\n",
        "  def __init__(self, value, lefth=None , rigth=None):\n",
        "      self.data= value\n",
        "      self.left=left\n",
        "      self.rigth=rigth\n",
        "        "
      ],
      "execution_count": null,
      "outputs": []
    },
    {
      "cell_type": "code",
      "metadata": {
        "id": "rx1a5ZAbtSKM"
      },
      "source": [
        "class TernaryNode:\n",
        "    def __init__(self ,value, left=None ,center = None ,rigth=None):\n",
        "        self.data= value\n",
        "        self.left=left\n",
        "        self.center =center\n",
        "        self.rigth=rigth\n",
        "        \n",
        "\n",
        "        "
      ],
      "execution_count": null,
      "outputs": []
    },
    {
      "cell_type": "code",
      "metadata": {
        "id": "26wFUeAcvLIi"
      },
      "source": [
        "root = BinaryNode(\"R\",BinaryNode (\"C\"),BinaryNode(\"H\"))\n",
        "print(root.lefth.data)"
      ],
      "execution_count": null,
      "outputs": []
    },
    {
      "cell_type": "code",
      "metadata": {
        "id": "OEGjRcBOwNKq"
      },
      "source": [
        "root = TernaryNode(4,TernaryNode(3,TernaryNode(5,left=TernaryNode(2)),\\\n",
        "                   TernaryNode(5),TernaryNode(2)), None, TernaryNode(5) )\n",
        "print(root.left.left.left.data)\n",
        "print(\".--.--.--.--.--\")\n",
        "aux=root\n",
        "while aux.left !=None:\n",
        "  aux =aux.left\n",
        "print(aux.data)\n",
        "print(\".--.--.--.--.--\")\n",
        "print(root.left.rigth.data)\n"
      ],
      "execution_count": null,
      "outputs": []
    },
    {
      "cell_type": "code",
      "metadata": {
        "id": "pm5GarAx5jvZ"
      },
      "source": [
        "root = binariNode(\"Santi\", None, binariNode(\"Jesús\", binariNode(\"Pedro\", None, binariNode(\"Pedro\")), None))\n",
        "print(root.rigth.left.data)"
      ],
      "execution_count": null,
      "outputs": []
    }
  ]
}