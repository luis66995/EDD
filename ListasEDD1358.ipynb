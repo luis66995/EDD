{
  "nbformat": 4,
  "nbformat_minor": 0,
  "metadata": {
    "colab": {
      "name": "ListasEDD1358.ipynb",
      "provenance": [],
      "collapsed_sections": [],
      "authorship_tag": "ABX9TyN0zpc3oIcuJIRdjTZ1WTWw",
      "include_colab_link": true
    },
    "kernelspec": {
      "name": "python3",
      "display_name": "Python 3"
    },
    "language_info": {
      "name": "python"
    }
  },
  "cells": [
    {
      "cell_type": "markdown",
      "metadata": {
        "id": "view-in-github",
        "colab_type": "text"
      },
      "source": [
        "<a href=\"https://colab.research.google.com/github/luis66995/EDD/blob/master/ListasEDD1358.ipynb\" target=\"_parent\"><img src=\"https://colab.research.google.com/assets/colab-badge.svg\" alt=\"Open In Colab\"/></a>"
      ]
    },
    {
      "cell_type": "code",
      "metadata": {
        "id": "z5RJSwVNR_e6"
      },
      "source": [
        "class Nodo:\n",
        "  def  __init__ (self , value , siguiente=None):\n",
        "\n",
        "         self.data = value \n",
        "         self.next =siguiente\n"
      ],
      "execution_count": null,
      "outputs": []
    },
    {
      "cell_type": "code",
      "metadata": {
        "colab": {
          "base_uri": "https://localhost:8080/"
        },
        "id": "CCRdSGTSTgwm",
        "outputId": "3d36c2ff-d471-425f-8f68-4d5dd13ea59e"
      },
      "source": [
        "head = Nodo (30,43,)\n",
        "\n",
        "print(head.data)\n",
        "print(head.next)\n",
        "\n",
        "head2=Nodo(20)\n",
        "head2.next=(15)\n",
        "\n",
        "punto_entrada=Nodo(20)\n",
        "punto_entrada.next=Nodo(15)\n",
        "\n",
        "print(punto_entrada.data)\n",
        "print(punto_entrada.next.data)\n",
        "\n",
        "print(\"Hacer lo mismo pero con el segundo metodo\")\n",
        "\n",
        "print(punto_entrada.data)\n",
        "\n",
        "print(  punto_entrada.next.data)\n"
      ],
      "execution_count": null,
      "outputs": [
        {
          "output_type": "stream",
          "name": "stdout",
          "text": [
            "30\n",
            "43\n",
            "20\n",
            "15\n",
            "Hacer lo mismo pero con el segundo metodo\n",
            "20\n",
            "15\n"
          ]
        }
      ]
    },
    {
      "cell_type": "code",
      "metadata": {
        "colab": {
          "base_uri": "https://localhost:8080/"
        },
        "id": "Du1J5S9RhyVS",
        "outputId": "44a1d532-fb5c-4b0d-8cb3-fc8f9447acd4"
      },
      "source": [
        "head4 = Nodo(5, Nodo(6, Nodo(7, Nodo(8, Nodo(9)))))\n",
        "print(head4.next.next.data)"
      ],
      "execution_count": null,
      "outputs": [
        {
          "output_type": "stream",
          "name": "stdout",
          "text": [
            "7\n"
          ]
        }
      ]
    },
    {
      "cell_type": "code",
      "metadata": {
        "colab": {
          "base_uri": "https://localhost:8080/",
          "height": 231
        },
        "id": "HBwHNYl0iOKo",
        "outputId": "7817592d-7082-46ab-98e3-25cad992a44c"
      },
      "source": [
        "head4 = Nodo(5, Nodo(6, Nodo(7, Nodo(8, Nodo(9)))))\n",
        "curr_node=head4\n",
        "while curr_node != None:\n",
        "     print(curr_node.data)\n",
        "     curr_node = curr_node.next\n",
        "     curr_node=Nodo(10)\n",
        "     \n",
        "\n",
        "print(\"Agregar el 10 al final:\")\n",
        "\n",
        "curr_node=head4 \n",
        "while curr_node.next != None:\n",
        "     curr_node = curr_node.next\n",
        "     curr_node.next=Nodo(10)\n",
        "\n",
        "while curr_node.next != None:\n",
        "   print(curr_node.data)\n",
        "   curr_node= curr_node.next"
      ],
      "execution_count": null,
      "outputs": [
        {
          "output_type": "error",
          "ename": "NameError",
          "evalue": "ignored",
          "traceback": [
            "\u001b[0;31m---------------------------------------------------------------------------\u001b[0m",
            "\u001b[0;31mNameError\u001b[0m                                 Traceback (most recent call last)",
            "\u001b[0;32m<ipython-input-4-0f4e0ceb772b>\u001b[0m in \u001b[0;36m<module>\u001b[0;34m()\u001b[0m\n\u001b[0;32m----> 1\u001b[0;31m \u001b[0mhead4\u001b[0m \u001b[0;34m=\u001b[0m \u001b[0mNodo\u001b[0m\u001b[0;34m(\u001b[0m\u001b[0;36m5\u001b[0m\u001b[0;34m,\u001b[0m \u001b[0mNodo\u001b[0m\u001b[0;34m(\u001b[0m\u001b[0;36m6\u001b[0m\u001b[0;34m,\u001b[0m \u001b[0mNodo\u001b[0m\u001b[0;34m(\u001b[0m\u001b[0;36m7\u001b[0m\u001b[0;34m,\u001b[0m \u001b[0mNodo\u001b[0m\u001b[0;34m(\u001b[0m\u001b[0;36m8\u001b[0m\u001b[0;34m,\u001b[0m \u001b[0mNodo\u001b[0m\u001b[0;34m(\u001b[0m\u001b[0;36m9\u001b[0m\u001b[0;34m)\u001b[0m\u001b[0;34m)\u001b[0m\u001b[0;34m)\u001b[0m\u001b[0;34m)\u001b[0m\u001b[0;34m)\u001b[0m\u001b[0;34m\u001b[0m\u001b[0;34m\u001b[0m\u001b[0m\n\u001b[0m\u001b[1;32m      2\u001b[0m \u001b[0mcurr_node\u001b[0m\u001b[0;34m=\u001b[0m\u001b[0mhead4\u001b[0m\u001b[0;34m\u001b[0m\u001b[0;34m\u001b[0m\u001b[0m\n\u001b[1;32m      3\u001b[0m \u001b[0;32mwhile\u001b[0m \u001b[0mcurr_node\u001b[0m \u001b[0;34m!=\u001b[0m \u001b[0;32mNone\u001b[0m\u001b[0;34m:\u001b[0m\u001b[0;34m\u001b[0m\u001b[0;34m\u001b[0m\u001b[0m\n\u001b[1;32m      4\u001b[0m      \u001b[0mprint\u001b[0m\u001b[0;34m(\u001b[0m\u001b[0mcurr_node\u001b[0m\u001b[0;34m.\u001b[0m\u001b[0mdata\u001b[0m\u001b[0;34m)\u001b[0m\u001b[0;34m\u001b[0m\u001b[0;34m\u001b[0m\u001b[0m\n\u001b[1;32m      5\u001b[0m      \u001b[0mcurr_node\u001b[0m \u001b[0;34m=\u001b[0m \u001b[0mcurr_node\u001b[0m\u001b[0;34m.\u001b[0m\u001b[0mnext\u001b[0m\u001b[0;34m\u001b[0m\u001b[0;34m\u001b[0m\u001b[0m\n",
            "\u001b[0;31mNameError\u001b[0m: name 'Nodo' is not defined"
          ]
        }
      ]
    },
    {
      "cell_type": "code",
      "metadata": {
        "colab": {
          "base_uri": "https://localhost:8080/",
          "height": 129
        },
        "id": "5Ywo_EUIQ2mp",
        "outputId": "4c748d90-cfa5-448e-a036-eed09c2535cd"
      },
      "source": [
        "class Nodo:\n",
        "def __init__(self , value , siguiente=None):\n",
        "self.data = value\n",
        "self.next = siguiente\n",
        "\n",
        "class LinkedListADT:\n",
        "def __init__( self ):\n",
        "self.head = None\n",
        "\n",
        "def is_empty( self ):\n",
        "return self.head == None\n",
        "\n",
        "def get_tail( self ):\n",
        "curr_node = self.head\n",
        "if curr_node != None:\n",
        "while curr_node.next != None:\n",
        "curr_node = curr_node.next\n",
        "return curr_node\n",
        "\n",
        "def append( self , dato ):\n",
        "if self.is_empty() :\n",
        "self.head = Nodo( dato )\n",
        "else:\n",
        "#self.get_tail().next = Nodo(dato)\n",
        "tmp = self.get_tail()\n",
        "tmp.next = Nodo(dato)\n",
        "\n",
        "def transversal( self ):\n",
        "curr_node=self.head\n",
        "while curr_node != None:\n",
        "print( curr_node.data , end=\" --> \")\n",
        "curr_node = curr_node.next"
      ],
      "execution_count": null,
      "outputs": [
        {
          "output_type": "error",
          "ename": "IndentationError",
          "evalue": "ignored",
          "traceback": [
            "\u001b[0;36m  File \u001b[0;32m\"<ipython-input-1-55b038013fae>\"\u001b[0;36m, line \u001b[0;32m2\u001b[0m\n\u001b[0;31m    def __init__(self , value , siguiente=None):\u001b[0m\n\u001b[0m      ^\u001b[0m\n\u001b[0;31mIndentationError\u001b[0m\u001b[0;31m:\u001b[0m expected an indented block\n"
          ]
        }
      ]
    }
  ]
}