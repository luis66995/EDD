{
  "nbformat": 4,
  "nbformat_minor": 0,
  "metadata": {
    "colab": {
      "name": "ProgramaSecuenciaRegresiva.ipynb",
      "provenance": [],
      "authorship_tag": "ABX9TyO6nEE2OyX4FoeVbjb9epi7",
      "include_colab_link": true
    },
    "kernelspec": {
      "name": "python3",
      "display_name": "Python 3"
    },
    "language_info": {
      "name": "python"
    }
  },
  "cells": [
    {
      "cell_type": "markdown",
      "metadata": {
        "id": "view-in-github",
        "colab_type": "text"
      },
      "source": [
        "<a href=\"https://colab.research.google.com/github/luis66995/EDD/blob/master/ProgramaSecuenciaRegresiva.ipynb\" target=\"_parent\"><img src=\"https://colab.research.google.com/assets/colab-badge.svg\" alt=\"Open In Colab\"/></a>"
      ]
    },
    {
      "cell_type": "code",
      "metadata": {
        "id": "82TDFloEa1Na",
        "colab": {
          "base_uri": "https://localhost:8080/"
        },
        "outputId": "3f578e28-d435-4344-f7d1-3bb1afe67993"
      },
      "source": [
        "import time\n",
        "print(\"Cuenta Regresiva\")\n",
        "c=15\n",
        "def PrintRev(c):\n",
        " if c>=0:\n",
        "    print(c)\n",
        "    time.sleep(0)\n",
        "    PrintRev(c-1)\n",
        "\n",
        "PrintRev(c)        \n",
        "print(\"BOMMMMMMMM!!\")\n"
      ],
      "execution_count": null,
      "outputs": [
        {
          "output_type": "stream",
          "name": "stdout",
          "text": [
            "Cuenta Regresiva\n",
            "15\n",
            "14\n",
            "13\n",
            "12\n",
            "11\n",
            "10\n",
            "9\n",
            "8\n",
            "7\n",
            "6\n",
            "5\n",
            "4\n",
            "3\n",
            "2\n",
            "1\n",
            "0\n",
            "BOMMMMMMMM!!\n"
          ]
        }
      ]
    }
  ]
}