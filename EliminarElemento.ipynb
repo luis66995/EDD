{
  "nbformat": 4,
  "nbformat_minor": 0,
  "metadata": {
    "colab": {
      "name": "EliminarElemento.ipynb",
      "provenance": [],
      "authorship_tag": "ABX9TyPHaOqAfscZ+0oYftUzMNL2",
      "include_colab_link": true
    },
    "kernelspec": {
      "name": "python3",
      "display_name": "Python 3"
    },
    "language_info": {
      "name": "python"
    }
  },
  "cells": [
    {
      "cell_type": "markdown",
      "metadata": {
        "id": "view-in-github",
        "colab_type": "text"
      },
      "source": [
        "<a href=\"https://colab.research.google.com/github/luis66995/EDD/blob/master/EliminarElemento.ipynb\" target=\"_parent\"><img src=\"https://colab.research.google.com/assets/colab-badge.svg\" alt=\"Open In Colab\"/></a>"
      ]
    },
    {
      "cell_type": "code",
      "metadata": {
        "id": "RKxPJNJ7LYlv"
      },
      "source": [
        "Num_Arreglo=[1,2,3,4,5,6,7,8,9,10,11,12,13,14,15]\n",
        "def medio(Lista):\n",
        "    if len(Lista)%2 ==0:\n",
        "        if len(Lista)==2:\n",
        "            Lista.pop(1)\n",
        "            return Lista\n",
        "        Lista.pop(0)\n",
        "        Lista.pop()\n",
        "        return medio(Lista)\n",
        "    if len (Lista)==1:\n",
        "      return Lista\n",
        "    Lista.pop(0)\n",
        "    Lista.pop(-1)\n",
        "\n",
        "    return medio(Lista) \n",
        "\n",
        "\n"
      ],
      "execution_count": 1,
      "outputs": []
    }
  ]
}