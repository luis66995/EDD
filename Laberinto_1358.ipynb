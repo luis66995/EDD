{
  "nbformat": 4,
  "nbformat_minor": 0,
  "metadata": {
    "colab": {
      "name": "Laberinto_1358.ipynb",
      "provenance": [],
      "collapsed_sections": [],
      "authorship_tag": "ABX9TyP4tUz54nOSZm2kOOY6FG0W",
      "include_colab_link": true
    },
    "kernelspec": {
      "name": "python3",
      "display_name": "Python 3"
    },
    "language_info": {
      "name": "python"
    }
  },
  "cells": [
    {
      "cell_type": "markdown",
      "metadata": {
        "id": "view-in-github",
        "colab_type": "text"
      },
      "source": [
        "<a href=\"https://colab.research.google.com/github/luis66995/EDD/blob/master/Laberinto_1358.ipynb\" target=\"_parent\"><img src=\"https://colab.research.google.com/assets/colab-badge.svg\" alt=\"Open In Colab\"/></a>"
      ]
    },
    {
      "cell_type": "code",
      "metadata": {
        "id": "eOrnHbym3p6L"
      },
      "source": [
        "\n",
        "class StackADT:\n",
        "    def __init__( self  ):\n",
        "        self.data = list()\n",
        "        self.tope = 0\n",
        "\n",
        "    def is_empty( self ):\n",
        "        return self.tope == 0\n",
        "\n",
        "    def length( self ):\n",
        "        return self.tope\n",
        "\n",
        "    def pop( self ):\n",
        "        if not self.is_empty():\n",
        "            return self.data[ self.tope - 1 ]\n",
        "            self.tope -=1\n",
        "    def peek( self ):\n",
        "        return self.data[ self.tope - 1 ]\n",
        "    \n",
        "    def push( self , value ):\n",
        "        self.data.append( value )\n",
        "        self.tope +=1\n",
        "\n",
        "    def to_string( self ):\n",
        "        for elem in self.data:\n",
        "            print(f\"| { elem } |\")"
      ],
      "execution_count": 10,
      "outputs": []
    },
    {
      "cell_type": "code",
      "metadata": {
        "id": "SAah-5Ayk39Q"
      },
      "source": [
        "class Array2D():\n",
        "  def __init__(self, ren, col):\n",
        "    self.__columnas = col\n",
        "    self.__renglones = ren\n",
        "    self.__data = [[ 0 for i in range(col)]for i in range (ren)]\n",
        "\n",
        "  def to_string(self):\n",
        "    for i in range(self.__renglones):\n",
        "      print(self.__data[i])\n",
        "\n",
        "  def clear(self, dato):\n",
        "    for i in range (self.__renglones):\n",
        "      for x in range(self.__columnas):\n",
        "        self.__data[i][x] = dato\n",
        "\n",
        "  def get_row_size(self):\n",
        "    return self.__renglones\n",
        "\n",
        "  def get_col_size(self):\n",
        "    return self.__columnas\n",
        "\n",
        "  def set_item(self,ren,col,dato):\n",
        "    self.__data[ren][col] = dato\n",
        "\n",
        "  def get_item(self,ren,col):\n",
        "    return self.__data[ren][col]\n",
        "    "
      ],
      "execution_count": 11,
      "outputs": []
    },
    {
      "cell_type": "code",
      "metadata": {
        "id": "peN6HFlfk5Qp"
      },
      "source": [
        "class LaberintoADT:\n",
        "  def __init__ (self , archivo): \n",
        "    self.laberinto=None  #array2d \n",
        "    self.camino = StackADT()\n",
        "    self.inicializa (archivo)\n",
        "    self.laberinto.to_string()\n",
        "    print(\"Stack\")\n",
        "    self.camino\n",
        "    #P---> pared\n",
        "    #C---> corredor\n",
        "    #E---> entrada\n",
        "    #S---> salida\n",
        "    #X---> ya visitado \n",
        "  def inicializa (self, archivo):\n",
        "    entrada = open (archivo, 'rt')\n",
        "    self.laberinto=Array2D( int (entrada.readlines().strip()), int (entrada .readline().strip()))  \n",
        "    lineas = entrada.readlines()\n",
        "\n",
        "    for r in range( len(lineas)):\n",
        "        lineaBis = lineas[r].strip().split(',')\n",
        "        for c in  range( len(lineaBis )) :\n",
        "            self.laberinto.set_item(r,c,lineaBis[c])\n",
        "    #buscar la entrada\n",
        "    for r in range(self.laberinto.get_row_size()):\n",
        "      for c in range(self. laberinto.get_col_size()):\n",
        "        if self.laberinto.get_item(r,c)== 'E':\n",
        "          self.camino.push ((r,c))        \n"
      ],
      "execution_count": 21,
      "outputs": []
    }
  ]
}