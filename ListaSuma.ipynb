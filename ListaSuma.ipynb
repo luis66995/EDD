{
  "nbformat": 4,
  "nbformat_minor": 0,
  "metadata": {
    "colab": {
      "name": "ListaSuma.ipynb",
      "provenance": [],
      "authorship_tag": "ABX9TyPts70uYSdfH5cY6PCgv12T",
      "include_colab_link": true
    },
    "kernelspec": {
      "name": "python3",
      "display_name": "Python 3"
    },
    "language_info": {
      "name": "python"
    }
  },
  "cells": [
    {
      "cell_type": "markdown",
      "metadata": {
        "id": "view-in-github",
        "colab_type": "text"
      },
      "source": [
        "<a href=\"https://colab.research.google.com/github/luis66995/EDD/blob/master/ListaSuma.ipynb\" target=\"_parent\"><img src=\"https://colab.research.google.com/assets/colab-badge.svg\" alt=\"Open In Colab\"/></a>"
      ]
    },
    {
      "cell_type": "code",
      "metadata": {
        "id": "Qn3R5nxK1X9G",
        "colab": {
          "base_uri": "https://localhost:8080/"
        },
        "outputId": "efe76285-e265-45be-a5ce-f2acfae59982"
      },
      "source": [
        "Lista_Numeros=[2,4,6,8,10,12,14,16,18,20]\n",
        "def suma(lista):\n",
        "    if len(lista)==0:\n",
        "       return 0\n",
        "\n",
        "    return lista.pop(-1)+suma(lista)\n",
        "print(suma(Lista_Numeros))      "
      ],
      "execution_count": null,
      "outputs": [
        {
          "output_type": "stream",
          "name": "stdout",
          "text": [
            "110\n"
          ]
        }
      ]
    }
  ]
}