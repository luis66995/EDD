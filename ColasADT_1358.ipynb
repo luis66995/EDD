{
  "nbformat": 4,
  "nbformat_minor": 0,
  "metadata": {
    "colab": {
      "name": "ColasADT_1358.ipynb",
      "private_outputs": true,
      "provenance": [],
      "collapsed_sections": [],
      "authorship_tag": "ABX9TyNgbjCYmsIchWKEQEDZIGI2",
      "include_colab_link": true
    },
    "kernelspec": {
      "name": "python3",
      "display_name": "Python 3"
    },
    "language_info": {
      "name": "python"
    }
  },
  "cells": [
    {
      "cell_type": "markdown",
      "metadata": {
        "id": "view-in-github",
        "colab_type": "text"
      },
      "source": [
        "<a href=\"https://colab.research.google.com/github/luis66995/EDD/blob/master/ColasADT_1358.ipynb\" target=\"_parent\"><img src=\"https://colab.research.google.com/assets/colab-badge.svg\" alt=\"Open In Colab\"/></a>"
      ]
    },
    {
      "cell_type": "code",
      "metadata": {
        "id": "4zHC4BPustEq"
      },
      "source": [
        "class QueueADT:\n",
        "  def __init__(self):\n",
        "    self.__data=[]\n",
        "  \n",
        "  def is_empty(self):\n",
        "    return len(self.__data)==0\n",
        "  \n",
        "  def length(self):\n",
        "    return len(self.__data)\n",
        "\n",
        "  def enqueue(self, element):\n",
        "    self.__data.append(element)\n",
        "\n",
        "  def dequeue(self):\n",
        "    if not self.is_empty():\n",
        "      return self .__data.pop(0)\n",
        "\n",
        "  def to_string(self):\n",
        "    for element  in self.__data:\n",
        "      print(f\"|{element}|<----\", end = \" \" )\n",
        "\n",
        "\n",
        "\n",
        "\n"
      ],
      "execution_count": null,
      "outputs": []
    },
    {
      "cell_type": "code",
      "metadata": {
        "id": "JH-xdXWYvr5H"
      },
      "source": [
        "cola = QueueADT()\n",
        "print(\"¿Esta vacio?\", cola.is_empty() )\n",
        "print(\"# de elementos: \", cola.length() )\n",
        "cola.enqueue(10)\n",
        "cola.to_string()\n",
        "print(\"_._._._._._._\")\n",
        "cola.enqueue(20)\n",
        "cola.enqueue(30)\n",
        "cola.enqueue(40)\n",
        "cola.to_string()\n",
        "siguuiente=cola.dequeue()\n",
        "print(\"\\atendiendo a: \", siguuiente)\n",
        "cola.to_string()\n",
        "\n",
        "\n"
      ],
      "execution_count": null,
      "outputs": []
    },
    {
      "cell_type": "code",
      "metadata": {
        "id": "whHh0F-4PoWK"
      },
      "source": [
        "class ColaPrioridadAcotada:\n",
        "  def __init__(self, niveles):\n",
        "    self.__data = [QueueADT() for x in range(niveles)]\n",
        "    self.length = 0\n",
        "\n",
        "  def is_empty(self):\n",
        "    return self.length == 0\n",
        "\n",
        "  def length(self):\n",
        "    return self.length\n",
        "  \n",
        "  def enqueue(self, nivel, dato):\n",
        "    if nivel >= 0 and nivel < len(self.__data):\n",
        "      self.__data[nivel].enqueue(dato)\n",
        "      self.length += 1\n",
        "  \n",
        "  def to_string(self):\n",
        "    for p in range(len(self.__data)):\n",
        "      print(f\"Prioridad {p} = \", end = \"\")\n",
        "      self.__data[p].to_string()\n",
        "\n",
        "  def dequeue(self):\n",
        "    for nivel in self.__data:\n",
        "      if not nivel.is_empty():\n",
        "        self.length -= 1\n",
        "        return nivel.dequeue()"
      ],
      "execution_count": null,
      "outputs": []
    },
    {
      "cell_type": "code",
      "metadata": {
        "id": "CpW4jKC5UlHG"
      },
      "source": [
        "#probar priorityQueueATD\n",
        "cpa = ColaPrioridadAcotada(7)\n",
        "cpa.enqueue(4, \"A\")\n",
        "cpa.enqueue(2, \"Z\")\n",
        "cpa.enqueue(4, \"N\")\n",
        "cpa.enqueue(1, \"P\")\n",
        "cpa.to_string()\n",
        "print(\".-.-.-..-.-.-.-.-.-.-.-.-.-.\")\n",
        "cpa.dequeue()\n",
        "cpa.to_string()"
      ],
      "execution_count": null,
      "outputs": []
    },
    {
      "cell_type": "code",
      "metadata": {
        "id": "zO_GzWLSGT4L"
      },
      "source": [
        "class ColaDePrioridad:\n",
        "  def __init__(self):\n",
        "    self.__data = []\n",
        "    self.__length = 0\n",
        "\n",
        "  def is_empty(self):\n",
        "    return self.__length == 0\n",
        "\n",
        "  def length(self):\n",
        "    return self.__length\n",
        "#utilizar la funcion insert de el tipo de dato list enn python\n",
        "#para mantener ordenados los niveles de priporidad\n",
        "#tarea moral\n",
        "  def enqueue(self, prioridad, dato):\n",
        "    existe = False\n",
        "    indice = 0\n",
        "    for index in range(len(self.__data)):\n",
        "      if self.__data[index][\"P\"] == prioridad:\n",
        "        self.__data[index][\"cola\"].enqueue(dato)\n",
        "        existe = True\n",
        "        indice = index\n",
        "        break\n",
        "    if existe:\n",
        "      self.__data[indice][\"cola\"].enqueue(dato)\n",
        "    else:\n",
        "      self.__data[indice].append({\"p\": prioridad, \"cola\": QueueADT()})\n",
        "      self.__data[-1][\"cola\"].enqueue(dato)\n",
        "  def to_string(self):\n",
        "    for level in self.__data:\n",
        "      print(level [\"P\"], end =\"=\")\n",
        "      level[\"cola\"].to_string()\n"
      ],
      "execution_count": null,
      "outputs": []
    },
    {
      "cell_type": "code",
      "metadata": {
        "id": "4R9uWrYZapxN"
      },
      "source": [
        "cp=ColaDePrioridad()\n",
        "cp.enqueue( 2 , \"A\" )\n",
        "cp.enqueue( 4 , \"Z\" )\n",
        "cp.enqueue( 1 , \"R\" )\n",
        "cp.enqueue( 2 , \"B\" )\n",
        "cp.enqueue( 4 , \"Y\" )\n",
        "cp.to_string"
      ],
      "execution_count": null,
      "outputs": []
    }
  ]
}