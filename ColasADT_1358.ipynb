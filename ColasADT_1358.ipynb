{
  "nbformat": 4,
  "nbformat_minor": 0,
  "metadata": {
    "colab": {
      "name": "ColasADT_1358.ipynb",
      "private_outputs": true,
      "provenance": [],
      "collapsed_sections": [],
      "authorship_tag": "ABX9TyPix4/Oi8GolmDgM+g6A1H8",
      "include_colab_link": true
    },
    "kernelspec": {
      "name": "python3",
      "display_name": "Python 3"
    },
    "language_info": {
      "name": "python"
    }
  },
  "cells": [
    {
      "cell_type": "markdown",
      "metadata": {
        "id": "view-in-github",
        "colab_type": "text"
      },
      "source": [
        "<a href=\"https://colab.research.google.com/github/luis66995/EDD/blob/master/ColasADT_1358.ipynb\" target=\"_parent\"><img src=\"https://colab.research.google.com/assets/colab-badge.svg\" alt=\"Open In Colab\"/></a>"
      ]
    },
    {
      "cell_type": "code",
      "metadata": {
        "id": "4zHC4BPustEq"
      },
      "source": [
        "class QueueADT:\n",
        "  def __init__(self):\n",
        "    self.__data=[]\n",
        "  \n",
        "  def is_empty(self):\n",
        "    return len(self.__data)==0\n",
        "  \n",
        "  def length(self):\n",
        "    return len(self.__data)\n",
        "\n",
        "  def enqueue(self, element):\n",
        "    self.__data.append(element)\n",
        "\n",
        "  def dequeue(self):\n",
        "    if not self.is_empty():\n",
        "      return self .__data.pop(0)\n",
        "\n",
        "  def to_string(self):\n",
        "    for element  in self.__data:\n",
        "      print(f\"|{element}|<----\", end = \" \" )\n",
        "\n",
        "\n",
        "\n",
        "\n"
      ],
      "execution_count": null,
      "outputs": []
    },
    {
      "cell_type": "code",
      "metadata": {
        "id": "JH-xdXWYvr5H"
      },
      "source": [
        "cola = QueueADT()\n",
        "print(\"¿Esta vacio?\", cola.is_empty() )\n",
        "print(\"# de elementos: \", cola.length() )\n",
        "cola.enqueue(10)\n",
        "cola.to_string()\n",
        "print(\"_._._._._._._\")\n",
        "cola.enqueue(20)\n",
        "cola.enqueue(30)\n",
        "cola.enqueue(40)\n",
        "cola.to_string()\n",
        "siguuiente=cola.dequeue()\n",
        "print(\"\\atendiendo a: \", siguuiente)\n",
        "cola.to_string()\n",
        "\n",
        "\n"
      ],
      "execution_count": null,
      "outputs": []
    }
  ]
}