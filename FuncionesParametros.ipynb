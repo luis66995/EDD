{
  "nbformat": 4,
  "nbformat_minor": 0,
  "metadata": {
    "colab": {
      "name": "FuncionesParametros.ipynb",
      "private_outputs": true,
      "provenance": [],
      "collapsed_sections": [],
      "authorship_tag": "ABX9TyMeLGrvICKB1MnBeBXF7Jks",
      "include_colab_link": true
    },
    "kernelspec": {
      "name": "python3",
      "display_name": "Python 3"
    },
    "language_info": {
      "name": "python"
    },
    "gpuClass": "standard"
  },
  "cells": [
    {
      "cell_type": "markdown",
      "metadata": {
        "id": "view-in-github",
        "colab_type": "text"
      },
      "source": [
        "<a href=\"https://colab.research.google.com/github/luis66995/EDD/blob/master/FuncionesParametros.ipynb\" target=\"_parent\"><img src=\"https://colab.research.google.com/assets/colab-badge.svg\" alt=\"Open In Colab\"/></a>"
      ]
    },
    {
      "cell_type": "code",
      "execution_count": null,
      "metadata": {
        "id": "emQCWPpgbFGN"
      },
      "outputs": [],
      "source": [
        "def mensaje_mostrar(mensaje):\n",
        "    print(\"===============================\")\n",
        "    print(\"Mensaje\")\n",
        "    print(\"===============================\")\n",
        "\n",
        "def cargar_suma():\n",
        "    valor1= int (input(\"ingrese el primer valor: \"))\n",
        "    valor2=int  (input(\"Ingrese el segundo valor:\"))\n",
        "\n",
        "    suma=valor1+valor2\n",
        "    print(\"La suma es:\" ,  suma )\n",
        "\n",
        "mensaje_mostrar(\"Calculo de la suma de valores\")    \n",
        "cargar_suma()\n",
        "\n",
        "print(\"=====================================================\")\n",
        "\n",
        "def saludar(nombre,mensaje=\"Hola que tal\" ):\n",
        "    print(mensaje , nombre)\n",
        "print(\"Luis Torres\",\"este es el cambio \")\n",
        "\n",
        "\n",
        "print(\"=====================================================\")\n",
        "def sumar(va1,va2,*lista):\n",
        "    suma=va1+va2\n",
        "    for recorrido in range(len(lista)):\n",
        "        suma= suma + lista[recorrido]\n",
        "    return suma\n",
        "print(\"Suma de dos vaLores\")\n",
        "print(sumar(12,44))\n",
        "print(\"Suma de 5 valores\")\n",
        "print(sumar(12,44,66,77,88))\n",
        "print(\"suma de 10 valores\")\n",
        "print(sumar(24,56,77,8,12,33,56,77,23,55))\n",
        "\n",
        "\n",
        "\n",
        "print(\"=====================================================\")\n",
        "def sumarNum(valor, *lista1):\n",
        "    suma= valor+ lista1\n",
        "    for x in range(len(lista1)):\n",
        "        suma= valor+ lista1\n",
        "    return suma \n",
        "\n",
        "print(\"Suma de dos vaLores\")\n",
        "print(sumar(12,44))\n",
        "print(\"Suma de 5 valores\")\n",
        "print(sumar(12,44,66,77,88))\n",
        "print(\"suma de  valores numeros ene n:  \")\n",
        "print(sumar(24,56,77,8,12,33,56,77,23,55,33))\n",
        "\n"
      ]
    }
  ]
}