{
  "nbformat": 4,
  "nbformat_minor": 0,
  "metadata": {
    "colab": {
      "name": "Pilas_1358.ipynb",
      "provenance": [],
      "collapsed_sections": [],
      "authorship_tag": "ABX9TyNjJcghsrmRfoeDGvmbLoqE",
      "include_colab_link": true
    },
    "kernelspec": {
      "name": "python3",
      "display_name": "Python 3"
    },
    "language_info": {
      "name": "python"
    }
  },
  "cells": [
    {
      "cell_type": "markdown",
      "metadata": {
        "id": "view-in-github",
        "colab_type": "text"
      },
      "source": [
        "<a href=\"https://colab.research.google.com/github/luis66995/EDD/blob/master/Pilas_1358.ipynb\" target=\"_parent\"><img src=\"https://colab.research.google.com/assets/colab-badge.svg\" alt=\"Open In Colab\"/></a>"
      ]
    },
    {
      "cell_type": "code",
      "metadata": {
        "id": "Gv9RdxduTTji"
      },
      "source": [
        "\n",
        "class StackADT:\n",
        "    def __init__( self  ):\n",
        "        self.data = list()\n",
        "        self.tope = 0\n",
        "\n",
        "    def is_empty( self ):\n",
        "        return self.tope == 0\n",
        "\n",
        "    def length( self ):\n",
        "        return self.tope\n",
        "\n",
        "    def pop( self ):\n",
        "        if not self.is_empty():\n",
        "            return self.data[ self.tope - 1 ]\n",
        "            self.tope -=1\n",
        "    def peek( self ):\n",
        "        return self.data[ self.tope - 1 ]\n",
        "    \n",
        "    def push( self , value ):\n",
        "        self.data.append( value )\n",
        "        self.tope +=1\n",
        "\n",
        "    def to_string( self ):\n",
        "        for elem in self.data:\n",
        "            print(f\"| { elem } |\")"
      ],
      "execution_count": null,
      "outputs": []
    },
    {
      "cell_type": "code",
      "metadata": {
        "colab": {
          "base_uri": "https://localhost:8080/",
          "height": 129
        },
        "id": "dsU-1jAtaI0P",
        "outputId": "59341e5a-651f-4df1-c9b9-0577780c4c27"
      },
      "source": [
        "pila = StackADT()\n",
        "pila.push( 10 )\n",
        "pila.push( 20 )\n",
        "pila.push( 30 )\n",
        "pila.to_string()\n",
        "\n",
        "   print(\"Llamada a peek\", pila.peek())\n",
        "   print(\"Llamada a pop\", pila.pop())\n",
        "pila.to_string()\n",
        "\n",
        "pila.push( 25 )\n",
        "pila.push( 26 )\n",
        "  print(\"Después de meter 25 y 26\")\n",
        "pila.to_string()\n",
        "  print(f\"La pila tiene { pila.lenght() } elementos\")\n",
        "pila.pop()\n",
        "pila.pop()\n",
        "pila.pop()\n",
        "pila.pop()\n",
        "  print(f\"La pila tiene { pila.lenght() } elementos\")"
      ],
      "execution_count": null,
      "outputs": [
        {
          "output_type": "error",
          "ename": "IndentationError",
          "evalue": "ignored",
          "traceback": [
            "\u001b[0;36m  File \u001b[0;32m\"<ipython-input-9-97ba0df2a153>\"\u001b[0;36m, line \u001b[0;32m7\u001b[0m\n\u001b[0;31m    print(\"Llamada a peek\", pila.peek())\u001b[0m\n\u001b[0m    ^\u001b[0m\n\u001b[0;31mIndentationError\u001b[0m\u001b[0;31m:\u001b[0m unexpected indent\n"
          ]
        }
      ]
    }
  ]
}