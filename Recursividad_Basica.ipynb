{
  "nbformat": 4,
  "nbformat_minor": 0,
  "metadata": {
    "colab": {
      "name": "Recursividad_Basica.ipynb",
      "provenance": [],
      "authorship_tag": "ABX9TyPwjvcrX49RrUm8yp6T/sVh",
      "include_colab_link": true
    },
    "kernelspec": {
      "name": "python3",
      "display_name": "Python 3"
    },
    "language_info": {
      "name": "python"
    }
  },
  "cells": [
    {
      "cell_type": "markdown",
      "metadata": {
        "id": "view-in-github",
        "colab_type": "text"
      },
      "source": [
        "<a href=\"https://colab.research.google.com/github/luis66995/EDD/blob/master/Recursividad_Basica.ipynb\" target=\"_parent\"><img src=\"https://colab.research.google.com/assets/colab-badge.svg\" alt=\"Open In Colab\"/></a>"
      ]
    },
    {
      "cell_type": "code",
      "metadata": {
        "id": "Osqwla4tjQZA",
        "colab": {
          "base_uri": "https://localhost:8080/",
          "height": 129
        },
        "outputId": "85beb7ff-24c2-4e7e-ce94-bc5af8bcc574"
      },
      "source": [
        "\n",
        "\n",
        "def factorial (n):\n",
        "\n",
        "if n==0:\n",
        "return = 1\n",
        "else:\n",
        "return n *factorial (n-1)\n",
        "n=3\n",
        "print ( factorial (n))\n"
      ],
      "execution_count": 6,
      "outputs": [
        {
          "output_type": "error",
          "ename": "IndentationError",
          "evalue": "ignored",
          "traceback": [
            "\u001b[0;36m  File \u001b[0;32m\"<ipython-input-6-6a3c39565e6e>\"\u001b[0;36m, line \u001b[0;32m5\u001b[0m\n\u001b[0;31m    if n==0:\u001b[0m\n\u001b[0m     ^\u001b[0m\n\u001b[0;31mIndentationError\u001b[0m\u001b[0;31m:\u001b[0m expected an indented block\n"
          ]
        }
      ]
    },
    {
      "cell_type": "code",
      "metadata": {
        "id": "Uux8vdr7m1GS"
      },
      "source": [
        "def printRev(n):\n",
        "  if n>0:\n",
        "    print(n)\n",
        "    printRev(n-1)\n",
        "\n",
        "    n=3\n",
        "    PrintRev(n) "
      ],
      "execution_count": null,
      "outputs": []
    },
    {
      "cell_type": "code",
      "metadata": {
        "id": "_zl9yPPFpQ4v"
      },
      "source": [
        "def printRev(n):\n",
        "  if n>0:\n",
        "    printRev(n-1)\n",
        "print (n)\n",
        "    n=3\n",
        "    PrintRev(n) "
      ],
      "execution_count": null,
      "outputs": []
    },
    {
      "cell_type": "code",
      "metadata": {
        "id": "7ynsK-R4rTH8"
      },
      "source": [
        "def fibonachi(n):\n",
        "  if n == 0:    \n",
        "     return 0\n",
        "     else:\n",
        "  if n == 1:\n",
        "    return 1 \n",
        "    else :\n",
        "  if n > 1:\n",
        "    return fibonachi(n - 1) + fibonachi(n-2)   "
      ],
      "execution_count": null,
      "outputs": []
    }
  ]
}